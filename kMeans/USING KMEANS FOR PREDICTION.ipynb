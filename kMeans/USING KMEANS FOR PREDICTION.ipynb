{
 "cells": [
  {
   "cell_type": "code",
   "execution_count": 2,
   "id": "b2d6cc04-75a4-4a14-ba67-53216a665e5b",
   "metadata": {},
   "outputs": [
    {
     "name": "stdout",
     "output_type": "stream",
     "text": [
      "Collecting sklearn\n",
      "  Using cached sklearn-0.0.post12.tar.gz (2.6 kB)\n",
      "  Preparing metadata (setup.py): started\n",
      "  Preparing metadata (setup.py): finished with status 'error'\n"
     ]
    },
    {
     "name": "stderr",
     "output_type": "stream",
     "text": [
      "  error: subprocess-exited-with-error\n",
      "  \n",
      "  python setup.py egg_info did not run successfully.\n",
      "  exit code: 1\n",
      "  \n",
      "  [15 lines of output]\n",
      "  The 'sklearn' PyPI package is deprecated, use 'scikit-learn'\n",
      "  rather than 'sklearn' for pip commands.\n",
      "  \n",
      "  Here is how to fix this error in the main use cases:\n",
      "  - use 'pip install scikit-learn' rather than 'pip install sklearn'\n",
      "  - replace 'sklearn' by 'scikit-learn' in your pip requirements files\n",
      "    (requirements.txt, setup.py, setup.cfg, Pipfile, etc ...)\n",
      "  - if the 'sklearn' package is used by one of your dependencies,\n",
      "    it would be great if you take some time to track which package uses\n",
      "    'sklearn' instead of 'scikit-learn' and report it to their issue tracker\n",
      "  - as a last resort, set the environment variable\n",
      "    SKLEARN_ALLOW_DEPRECATED_SKLEARN_PACKAGE_INSTALL=True to avoid this error\n",
      "  \n",
      "  More information is available at\n",
      "  https://github.com/scikit-learn/sklearn-pypi-package\n",
      "  [end of output]\n",
      "  \n",
      "  note: This error originates from a subprocess, and is likely not a problem with pip.\n",
      "error: metadata-generation-failed\n",
      "\n",
      "Encountered error while generating package metadata.\n",
      "\n",
      "See above for output.\n",
      "\n",
      "note: This is an issue with the package mentioned above, not pip.\n",
      "hint: See above for details.\n"
     ]
    }
   ],
   "source": [
    "!pip install sklearn\n"
   ]
  },
  {
   "cell_type": "code",
   "execution_count": 1,
   "id": "acb27105-cd18-4dea-bcba-bf0b78327dfa",
   "metadata": {},
   "outputs": [
    {
     "ename": "ModuleNotFoundError",
     "evalue": "No module named 'sklearn'",
     "output_type": "error",
     "traceback": [
      "\u001b[1;31m---------------------------------------------------------------------------\u001b[0m",
      "\u001b[1;31mModuleNotFoundError\u001b[0m                       Traceback (most recent call last)",
      "Cell \u001b[1;32mIn[1], line 3\u001b[0m\n\u001b[0;32m      1\u001b[0m \u001b[38;5;28;01mimport\u001b[39;00m \u001b[38;5;21;01mmatplotlib\u001b[39;00m\u001b[38;5;21;01m.\u001b[39;00m\u001b[38;5;21;01mpyplot\u001b[39;00m \u001b[38;5;28;01mas\u001b[39;00m \u001b[38;5;21;01mplt\u001b[39;00m\n\u001b[0;32m      2\u001b[0m \u001b[38;5;28;01mimport\u001b[39;00m \u001b[38;5;21;01mnumpy\u001b[39;00m \u001b[38;5;28;01mas\u001b[39;00m \u001b[38;5;21;01mnp\u001b[39;00m\n\u001b[1;32m----> 3\u001b[0m \u001b[38;5;28;01mfrom\u001b[39;00m \u001b[38;5;21;01msklearn\u001b[39;00m\u001b[38;5;21;01m.\u001b[39;00m\u001b[38;5;21;01mdatasets\u001b[39;00m \u001b[38;5;28;01mimport\u001b[39;00m make_blobs\n\u001b[0;32m      4\u001b[0m \u001b[38;5;28;01mfrom\u001b[39;00m \u001b[38;5;21;01msklearn\u001b[39;00m\u001b[38;5;21;01m.\u001b[39;00m\u001b[38;5;21;01mcluster\u001b[39;00m \u001b[38;5;28;01mimport\u001b[39;00m KMeans\n",
      "\u001b[1;31mModuleNotFoundError\u001b[0m: No module named 'sklearn'"
     ]
    }
   ],
   "source": [
    "import matplotlib.pyplot as plt\n",
    "import numpy as np\n",
    "from sklearn.datasets import make_blobs\n",
    "from sklearn.cluster import KMeans\n",
    "\n"
   ]
  },
  {
   "cell_type": "code",
   "execution_count": null,
   "id": "fd573c2a-3d2f-4586-b72a-f6eab7a306b6",
   "metadata": {},
   "outputs": [],
   "source": [
    "X, y = make_blobs(n_samples = 100, centers = 4, cluster_std = 0.6)\n",
    "print(y)\n",
    "\n",
    "plt.scatter(X[:, 0], X[:, 1], s =10)   "
   ]
  },
  {
   "cell_type": "code",
   "execution_count": null,
   "id": "975506f4-52d8-44ed-b70b-51635309cd4d",
   "metadata": {},
   "outputs": [],
   "source": [
    "model = KMeans(n_clusters = 4, n_init = 1000)\n",
    "model.fit(X)\n",
    "y_predict = model.predict(X)\n",
    "print(y_predict)\n",
    "plt.scatter(X[:,0], X[:,1], c = y_predict, s = 10)\n",
    "centers = model.cluster_centers_\n",
    "plt.scatter(centers[:, 0], centers[:,1], c = \"red\",  s = 15)"
   ]
  },
  {
   "cell_type": "code",
   "execution_count": null,
   "id": "5048babb-c9f3-49f1-bf25-10e3d5a2d1aa",
   "metadata": {},
   "outputs": [],
   "source": [
    "import seaborn as sns\n",
    "import pandas as pd\n",
    "from sklearn.decomposition import PCA\n",
    "data = sns.load_dataset(\"iris\")\n",
    "\n",
    "X = pd.get_dummies(data)\n",
    "X.head()"
   ]
  },
  {
   "cell_type": "code",
   "execution_count": null,
   "id": "4ca5ff0f-777b-4c5b-9899-36edab421120",
   "metadata": {},
   "outputs": [],
   "source": [
    "model = PCA(n_components = 2)\n",
    "model.fit(X)\n",
    "PCA_Transform = model.transform(X)\n",
    "\n",
    "X[\"PCA1\"] = PCA_Transform[:, 0]\n",
    "X[\"PCA2\"] = PCA_Transform[:, 1]\n",
    "sns.lmplot(x =\"PCA1\", y =\"PCA2\", data = X, fit_reg = False )\n"
   ]
  },
  {
   "cell_type": "code",
   "execution_count": null,
   "id": "a2b8929f-7ac5-45e7-a405-7200ac2922c0",
   "metadata": {},
   "outputs": [],
   "source": [
    "model = KMeans(n_clusters = 3, n_init = 1000)\n",
    "model.fit(PCA_Transform)\n",
    "y_predict = model.predict(PCA_Transform)\n",
    "print(y_predict)\n",
    "plt.scatter(PCA_Transform[:,0], PCA_Transform[:,1], c = y_predict, s = 10)\n",
    "centers = model.cluster_centers_\n",
    "plt.scatter(centers[:, 0], centers[:,1], c = \"red\",  s = 15)"
   ]
  },
  {
   "cell_type": "code",
   "execution_count": null,
   "id": "2be2ab50-703e-4c5c-9093-7f9550ed0c8a",
   "metadata": {},
   "outputs": [],
   "source": [
    "w =[5.1, 3.5, 1.4, 0.2, True, False, False]\n"
   ]
  },
  {
   "cell_type": "code",
   "execution_count": null,
   "id": "2368eb1f-b308-47d3-af28-d7aa31b717f4",
   "metadata": {},
   "outputs": [],
   "source": []
  },
  {
   "cell_type": "code",
   "execution_count": null,
   "id": "8b52b2db-a549-41be-a5bf-8cd01a80ede0",
   "metadata": {},
   "outputs": [],
   "source": []
  }
 ],
 "metadata": {
  "kernelspec": {
   "display_name": "Python 3 (ipykernel)",
   "language": "python",
   "name": "python3"
  },
  "language_info": {
   "codemirror_mode": {
    "name": "ipython",
    "version": 3
   },
   "file_extension": ".py",
   "mimetype": "text/x-python",
   "name": "python",
   "nbconvert_exporter": "python",
   "pygments_lexer": "ipython3",
   "version": "3.9.6"
  }
 },
 "nbformat": 4,
 "nbformat_minor": 5
}
